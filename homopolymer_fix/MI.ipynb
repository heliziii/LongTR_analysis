{
 "cells": [
  {
   "cell_type": "code",
   "execution_count": 2,
   "metadata": {},
   "outputs": [],
   "source": [
    "import pandas as pd\n",
    "from cyvcf2 import VCF\n",
    "import numpy as np\n",
    "import matplotlib\n",
    "from matplotlib import pyplot as plt\n",
    "from scipy import stats\n",
    "from collections import defaultdict\n",
    "import csv\n",
    "import re\n",
    "from functools import reduce\n",
    "matplotlib.rcParams['pdf.fonttype'] = 42\n",
    "matplotlib.rcParams['ps.fonttype'] = 42"
   ]
  },
  {
   "cell_type": "code",
   "execution_count": 3,
   "metadata": {},
   "outputs": [],
   "source": [
    "def CheckMI(sample_gt, mother_gt, father_gt): # check GT level MI\n",
    "    if sample_gt[0] in mother_gt[0:2] and sample_gt[1] in father_gt[0:2]:\n",
    "        return True\n",
    "    if sample_gt[1] in mother_gt[0:2] and sample_gt[0] in father_gt[0:2]:\n",
    "        return True\n",
    "    return False\n",
    "\n",
    "def CheckMIlen(sample_gt, mother_gt, father_gt, buffer): # check length level MI allowing for buffer difference\n",
    "    mother_approx = []\n",
    "    for x in mother_gt:\n",
    "        mother_approx.extend([l for l in range(len(x) - buffer,len(x) + buffer+1)])\n",
    "    father_approx = []\n",
    "    for x in father_gt:\n",
    "        father_approx.extend([l for l in range(len(x) - buffer,len(x) + buffer+1)])\n",
    "    if len(sample_gt[0]) in list(set(mother_approx)) and len(sample_gt[1]) in list(set(father_approx)):\n",
    "        return True\n",
    "    if len(sample_gt[1]) in list(set(mother_approx)) and len(sample_gt[0]) in list(set(father_approx)):\n",
    "        return True\n",
    "    return False\n",
    "\n",
    "def IsRef(gt, REF):\n",
    "    return gt[0]==REF and gt[1]==REF"
   ]
  },
  {
   "cell_type": "code",
   "execution_count": 4,
   "metadata": {},
   "outputs": [
    {
     "name": "stdout",
     "output_type": "stream",
     "text": [
      "568643 225924 869 0.810019643255962\n"
     ]
    }
   ],
   "source": [
    "####### Read LongTR without stutter model output on HG002, HG003, HG004 and compute GT MI and length MI #######\n",
    "MI_list = []\n",
    "ref_cnt = 0\n",
    "missing_call = 0\n",
    "vcf = VCF(f\"LongTR_calls/trio_homo_longtr_no_stutter.vcf.gz\")\n",
    "samples = vcf.samples\n",
    "family = ['HG002', 'HG003', 'HG004']\n",
    "for variant in vcf:\n",
    "    if len(variant.ALT) == 0: # If there is no alt allele here\n",
    "        ref_cnt += 1\n",
    "        continue\n",
    "    if variant.CHROM == \"chrX\" or variant.CHROM == \"chrY\":\n",
    "        break\n",
    "    sample_index = samples.index(family[0])\n",
    "    mother_index = samples.index(family[1])\n",
    "    father_index = samples.index(family[2])\n",
    "    fam_indices = [sample_index, mother_index, father_index]\n",
    "    sample_GT = variant.gt_bases[sample_index].split(\"|\")\n",
    "    mother_GT = variant.gt_bases[mother_index].split(\"|\")\n",
    "    father_GT = variant.gt_bases[father_index].split(\"|\")\n",
    "    if \".\" in sample_GT[0] or \".\" in mother_GT[0] or \".\" in father_GT[0]: # No call\n",
    "        missing_call += 1\n",
    "        continue\n",
    "    if IsRef(sample_GT, variant.REF) and IsRef(mother_GT, variant.REF) and IsRef(father_GT, variant.REF): # all homozygous ref\n",
    "        ref_cnt += 1\n",
    "        continue\n",
    "    gbs=(\"%s,%s,%s\"%(variant.format(\"GB\")[sample_index],\n",
    "                      variant.format(\"GB\")[mother_index],\n",
    "                      variant.format(\"GB\")[father_index]))\n",
    "    MI_val = CheckMI(sample_GT, mother_GT, father_GT)\n",
    "    MI_val_len = CheckMIlen(sample_GT, mother_GT, father_GT,1)\n",
    "    min_score_gt = np.min([variant.format('Q')[ind] for ind in fam_indices])\n",
    "    MI_list.append([variant.CHROM, variant.POS, variant.ID, variant.INFO[\"PERIOD\"], family[0], \\\n",
    "             MI_val, MI_val_len, min_score_gt, gbs])\n",
    "data_without_stutter = pd.DataFrame(MI_list, \n",
    "    columns=[\"chrom\",\"pos\", \"ID\", \"period\",\"sample\",\"MI\",\"MI_len\", \"Score\",\"gbs\"])\n",
    "print(len(data_without_stutter), ref_cnt, missing_call, len(data_without_stutter[data_without_stutter['MI'] == True]) / len(data_without_stutter))"
   ]
  },
  {
   "cell_type": "code",
   "execution_count": 5,
   "metadata": {},
   "outputs": [
    {
     "name": "stdout",
     "output_type": "stream",
     "text": [
      "1\n",
      "2\n",
      "3\n",
      "4\n",
      "5\n",
      "6\n",
      "7\n",
      "8\n",
      "9\n",
      "10\n",
      "11\n",
      "12\n",
      "13\n",
      "14\n",
      "15\n",
      "16\n",
      "17\n",
      "18\n",
      "19\n",
      "20\n",
      "21\n",
      "22\n",
      "525868 268836 732 0.8271486380612625\n"
     ]
    }
   ],
   "source": [
    "####### Read LongTR with stutter error output on HG002, HG003, HG004 and compute GT MI and length MI #######\n",
    "MI_list = []\n",
    "ref_cnt = 0\n",
    "missing_call = 0\n",
    "\n",
    "for chrom in range(1,23):\n",
    "    print(chrom)\n",
    "    vcf = VCF(f\"LongTR_calls/trio_homo_longtr_stutter_chr{chrom}.vcf.gz\")\n",
    "    samples = vcf.samples\n",
    "    family = ['HG002', 'HG003', 'HG004']\n",
    "    for variant in vcf:\n",
    "        if len(variant.ALT) == 0: # If there is no alt allele here\n",
    "            ref_cnt += 1\n",
    "            continue\n",
    "        if variant.CHROM == \"chrX\" or variant.CHROM == \"chrY\":\n",
    "            break\n",
    "        sample_index = samples.index(family[0])\n",
    "        mother_index = samples.index(family[1])\n",
    "        father_index = samples.index(family[2])\n",
    "        fam_indices = [sample_index, mother_index, father_index]\n",
    "        sample_GT = variant.gt_bases[sample_index].split(\"|\")\n",
    "        mother_GT = variant.gt_bases[mother_index].split(\"|\")\n",
    "        father_GT = variant.gt_bases[father_index].split(\"|\")\n",
    "        if \".\" in sample_GT[0] or \".\" in mother_GT[0] or \".\" in father_GT[0]: # No call\n",
    "            missing_call += 1\n",
    "            continue\n",
    "        if IsRef(sample_GT, variant.REF) and IsRef(mother_GT, variant.REF) and IsRef(father_GT, variant.REF): # all homozygous ref\n",
    "            ref_cnt += 1\n",
    "            continue\n",
    "        gbs=(\"%s,%s,%s\"%(variant.format(\"GB\")[sample_index],\n",
    "                          variant.format(\"GB\")[mother_index],\n",
    "                          variant.format(\"GB\")[father_index]))\n",
    "        MI_val = CheckMI(sample_GT, mother_GT, father_GT)\n",
    "        MI_val_len = CheckMIlen(sample_GT, mother_GT, father_GT,1)\n",
    "        min_score_gt = np.min([variant.format('Q')[ind] for ind in fam_indices])\n",
    "        MI_list.append([variant.CHROM, variant.POS, variant.ID, variant.INFO[\"PERIOD\"], family[0], \\\n",
    "                 MI_val, MI_val_len, min_score_gt, gbs])\n",
    "data = pd.DataFrame(MI_list, \n",
    "    columns=[\"chrom\",\"pos\", \"ID\", \"period\",\"sample\",\"MI\",\"MI_len\", \"Score\",\"gbs\"])\n",
    "print(len(data), ref_cnt, missing_call, len(data[data['MI'] == True]) / len(data))"
   ]
  },
  {
   "cell_type": "code",
   "execution_count": 6,
   "metadata": {},
   "outputs": [
    {
     "name": "stdout",
     "output_type": "stream",
     "text": [
      "HG002\n",
      "HG003\n",
      "HG004\n",
      "0.7799602032261649\n"
     ]
    }
   ],
   "source": [
    "###### TRGT MI analysis #####\n",
    "\n",
    "def check_MI_trgt(ref, sample, mother, father):\n",
    "    if pd.isnull(father) or pd.isnull(mother) or pd.isnull(sample):\n",
    "        return 'no_call'\n",
    "    sample = sample.split(\"/\")\n",
    "    mother = mother.split(\"/\")\n",
    "    father = father.split(\"/\")\n",
    "    if sample[0] == \".\" or mother[0] == \".\" or father[0] == \".\":\n",
    "        return 'no_call'\n",
    "    if sample[0] == ref and sample[1] == ref and mother[0] == ref and mother[1] == ref and father[0] == ref and father[1] == ref:\n",
    "        return 'ref'\n",
    "    if sample[0] in mother and sample[1] in father:\n",
    "        return True\n",
    "    if sample[1] in mother and sample[0] in father:\n",
    "        return True\n",
    "    return False\n",
    "\n",
    "def extract_trgt_period(motif):\n",
    "    motif = motif.split(\",\")\n",
    "    period = list(set([len(m) for m in motif]))\n",
    "    if len(period) == 1:\n",
    "        return period[0]\n",
    "    else:\n",
    "        return \"ambigious\"\n",
    "    \n",
    "dfs = []\n",
    "for sample in ['HG002', 'HG003', 'HG004']:\n",
    "    print(sample)\n",
    "    vcf = VCF(f\"TRGT_calls/{sample}_homo_trgt_hg38.sorted.vcf.gz\")\n",
    "    sample_list = []\n",
    "    for variant in vcf:\n",
    "        if variant.CHROM == \"chrX\" or variant.CHROM == \"chrY\":\n",
    "            break\n",
    "        AL = variant.format(\"AL\")[0]\n",
    "        GB = [A - len(variant.REF) for A in AL]\n",
    "        sample_list.append([variant.CHROM, variant.POS, variant.INFO['MOTIFS'],\n",
    "                            variant.REF, variant.INFO['TRID'], variant.gt_bases[0], GB])\n",
    "    sample_df = pd.DataFrame(sample_list, columns = ['CHROM', 'POS', 'MOTIFS', 'REF', 'ID', f'GT_{sample}', f'GB_{sample}'])\n",
    "    dfs.append(sample_df)\n",
    "    \n",
    "df_trio = reduce(lambda  left,right: pd.merge(left,right,on=['CHROM', 'POS','ID', 'REF', 'MOTIFS'],\n",
    "                                            how='outer'), dfs)\n",
    "df_trio['MI'] = df_trio.apply(lambda row: check_MI_trgt(row['REF'], row['GT_HG002'], row['GT_HG003'], row['GT_HG004']), axis =1)\n",
    "df_trio['period'] = df_trio.apply(lambda row: extract_trgt_period(row['MOTIFS']), axis =1)\n",
    "\n",
    "not_nan = df_trio[(df_trio['MI'] != \"ref\") & (df_trio['MI'] != \"no_call\")]\n",
    "print(len(not_nan[not_nan['MI'] == True]) / len(not_nan))\n"
   ]
  },
  {
   "cell_type": "code",
   "execution_count": 7,
   "metadata": {},
   "outputs": [
    {
     "name": "stdout",
     "output_type": "stream",
     "text": [
      "[0.8106600481209697, 0.817192105402094, 0.82193135803019, 0.8279390611944342, 0.8351757724349562]\n"
     ]
    },
    {
     "data": {
      "image/png": "[encoded data removed]",
      "text/plain": [
       "<Figure size 576x432 with 1 Axes>"
      ]
     },
     "metadata": {
      "needs_background": "light"
     },
     "output_type": "display_data"
    }
   ],
   "source": [
    "def PlotByScore(LongTR_stutter, LongTR_no_stutter, scorecol):\n",
    "    fig = plt.figure(figsize=(8,6))\n",
    "    ax = fig.add_subplot(111)\n",
    "    color = 'gray'\n",
    "    thresh = np.arange(0.5, 1.0, 0.1)\n",
    "    \n",
    "    mis = []\n",
    "    ns = []\n",
    "    for t in thresh:\n",
    "        mis.append(np.mean(LongTR_stutter[LongTR_stutter[scorecol]>=t][\"MI\"]))\n",
    "        ns.append(LongTR_stutter[LongTR_stutter[scorecol]>=t].shape[0])\n",
    "    ax.plot(thresh, mis, marker=\"o\", color='green', label=\"LongTR with stutter\")\n",
    "    \n",
    "    mis = []\n",
    "    ns = []\n",
    "    for t in thresh:\n",
    "        mis.append(np.mean(LongTR_no_stutter[LongTR_no_stutter[scorecol]>=t][\"MI\"]))\n",
    "        ns.append(LongTR_no_stutter[LongTR_no_stutter[scorecol]>=t].shape[0])\n",
    "    ax.plot(thresh, mis, marker=\"o\", color='red', label=\"LongTR without stutter\")\n",
    "    \n",
    "    \n",
    "    ax.axhline(y=len(not_nan[not_nan['MI'] == True]) / len(not_nan), color='blue', linestyle='--',alpha=0.7, label = \"TRGT\")\n",
    "    ax.plot()\n",
    "    \n",
    "    print(mis)\n",
    "    \n",
    "    ax.set_xlabel(\"Score threshold\")\n",
    "    ax.set_ylabel(\"MI\")\n",
    "    ax.legend(loc=\"upper left\")\n",
    "    plt.savefig(\"Score_MI_homo.pdf\", dpi=1200)\n",
    "    \n",
    "    \n",
    "PlotByScore(data, data_without_stutter, \"Score\")"
   ]
  },
  {
   "cell_type": "code",
   "execution_count": null,
   "metadata": {},
   "outputs": [],
   "source": []
  }
 ],
 "metadata": {
  "kernelspec": {
   "display_name": "Python 3",
   "language": "python",
   "name": "python3"
  },
  "language_info": {
   "codemirror_mode": {
    "name": "ipython",
    "version": 3
   },
   "file_extension": ".py",
   "mimetype": "text/x-python",
   "name": "python",
   "nbconvert_exporter": "python",
   "pygments_lexer": "ipython3",
   "version": "3.8.5"
  }
 },
 "nbformat": 4,
 "nbformat_minor": 4
}
