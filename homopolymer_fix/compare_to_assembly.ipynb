{
 "cells": [
  {
   "cell_type": "code",
   "execution_count": 1,
   "metadata": {},
   "outputs": [],
   "source": [
    "import pandas as pd\n",
    "from cyvcf2 import VCF\n",
    "import numpy as np\n",
    "from math import exp\n",
    "from ast import literal_eval\n",
    "from tqdm import tqdm"
   ]
  },
  {
   "cell_type": "code",
   "execution_count": 2,
   "metadata": {},
   "outputs": [
    {
     "data": {
      "text/html": [
       "<div>\n",
       "<style scoped>\n",
       "    .dataframe tbody tr th:only-of-type {\n",
       "        vertical-align: middle;\n",
       "    }\n",
       "\n",
       "    .dataframe tbody tr th {\n",
       "        vertical-align: top;\n",
       "    }\n",
       "\n",
       "    .dataframe thead th {\n",
       "        text-align: right;\n",
       "    }\n",
       "</style>\n",
       "<table border=\"1\" class=\"dataframe\">\n",
       "  <thead>\n",
       "    <tr style=\"text-align: right;\">\n",
       "      <th></th>\n",
       "      <th>0</th>\n",
       "      <th>1</th>\n",
       "      <th>2</th>\n",
       "      <th>3</th>\n",
       "      <th>4</th>\n",
       "      <th>5</th>\n",
       "    </tr>\n",
       "  </thead>\n",
       "  <tbody>\n",
       "    <tr>\n",
       "      <th>49</th>\n",
       "      <td>chr1</td>\n",
       "      <td>262684</td>\n",
       "      <td>262694</td>\n",
       "      <td>Human_STR_90</td>\n",
       "      <td>[TTTTTTTTTTTTT, TTTTTTTTTTTTT]</td>\n",
       "      <td>[]</td>\n",
       "    </tr>\n",
       "    <tr>\n",
       "      <th>50</th>\n",
       "      <td>chr1</td>\n",
       "      <td>267778</td>\n",
       "      <td>267793</td>\n",
       "      <td>Human_STR_91</td>\n",
       "      <td>[AAAAAAAAAAAAAAAAA, AAAAAAAAAAAAAAAAA]</td>\n",
       "      <td>[]</td>\n",
       "    </tr>\n",
       "    <tr>\n",
       "      <th>73</th>\n",
       "      <td>chr1</td>\n",
       "      <td>591734</td>\n",
       "      <td>591751</td>\n",
       "      <td>Human_STR_115</td>\n",
       "      <td>[AAAAAAAAAAAAAAAAAAAA, AAAAAAAAAAAAAAAAAAAA]</td>\n",
       "      <td>[]</td>\n",
       "    </tr>\n",
       "    <tr>\n",
       "      <th>74</th>\n",
       "      <td>chr1</td>\n",
       "      <td>597686</td>\n",
       "      <td>597699</td>\n",
       "      <td>Human_STR_119</td>\n",
       "      <td>[AAAAAAAAAAAAAA, AAAAAAAAAAAAAA]</td>\n",
       "      <td>[]</td>\n",
       "    </tr>\n",
       "    <tr>\n",
       "      <th>75</th>\n",
       "      <td>chr1</td>\n",
       "      <td>598935</td>\n",
       "      <td>598945</td>\n",
       "      <td>Human_STR_120</td>\n",
       "      <td>[GGGGGGGGGGG, GGGGGGGGGGG]</td>\n",
       "      <td>[]</td>\n",
       "    </tr>\n",
       "    <tr>\n",
       "      <th>...</th>\n",
       "      <td>...</td>\n",
       "      <td>...</td>\n",
       "      <td>...</td>\n",
       "      <td>...</td>\n",
       "      <td>...</td>\n",
       "      <td>...</td>\n",
       "    </tr>\n",
       "    <tr>\n",
       "      <th>13818</th>\n",
       "      <td>chr22</td>\n",
       "      <td>50781344</td>\n",
       "      <td>50781362</td>\n",
       "      <td>Human_STR_911881</td>\n",
       "      <td>[AAAAAAAAAAAAAAAAAAA, AAAAAAAAAAAAAAAAAAA]</td>\n",
       "      <td>[]</td>\n",
       "    </tr>\n",
       "    <tr>\n",
       "      <th>13819</th>\n",
       "      <td>chr22</td>\n",
       "      <td>50790606</td>\n",
       "      <td>50790627</td>\n",
       "      <td>Human_STR_911886</td>\n",
       "      <td>[AAAAAAAAAAAAAAAAAAAA, AAAAAAAAAAAAAAAAAAAAAAA...</td>\n",
       "      <td>[]</td>\n",
       "    </tr>\n",
       "    <tr>\n",
       "      <th>13820</th>\n",
       "      <td>chr22</td>\n",
       "      <td>50796314</td>\n",
       "      <td>50796328</td>\n",
       "      <td>Human_STR_911887</td>\n",
       "      <td>[CCCCCCCCCCCCC, CCCCCCCCCCCCCC]</td>\n",
       "      <td>[]</td>\n",
       "    </tr>\n",
       "    <tr>\n",
       "      <th>13821</th>\n",
       "      <td>chr22</td>\n",
       "      <td>50804642</td>\n",
       "      <td>50804652</td>\n",
       "      <td>Human_STR_911890</td>\n",
       "      <td>[TTTTTTTTTTT, TTTTTTTTTTTT]</td>\n",
       "      <td>[]</td>\n",
       "    </tr>\n",
       "    <tr>\n",
       "      <th>13822</th>\n",
       "      <td>chr22</td>\n",
       "      <td>50805892</td>\n",
       "      <td>50805911</td>\n",
       "      <td>Human_STR_911891</td>\n",
       "      <td>[AAAAAAAAAAAAAAAAAAAAA, AAAAAAAAAAAAAAAAAAAAA]</td>\n",
       "      <td>[]</td>\n",
       "    </tr>\n",
       "  </tbody>\n",
       "</table>\n",
       "<p>777492 rows × 6 columns</p>\n",
       "</div>"
      ],
      "text/plain": [
       "           0         1         2                 3  \\\n",
       "49      chr1    262684    262694      Human_STR_90   \n",
       "50      chr1    267778    267793      Human_STR_91   \n",
       "73      chr1    591734    591751     Human_STR_115   \n",
       "74      chr1    597686    597699     Human_STR_119   \n",
       "75      chr1    598935    598945     Human_STR_120   \n",
       "...      ...       ...       ...               ...   \n",
       "13818  chr22  50781344  50781362  Human_STR_911881   \n",
       "13819  chr22  50790606  50790627  Human_STR_911886   \n",
       "13820  chr22  50796314  50796328  Human_STR_911887   \n",
       "13821  chr22  50804642  50804652  Human_STR_911890   \n",
       "13822  chr22  50805892  50805911  Human_STR_911891   \n",
       "\n",
       "                                                       4   5  \n",
       "49                        [TTTTTTTTTTTTT, TTTTTTTTTTTTT]  []  \n",
       "50                [AAAAAAAAAAAAAAAAA, AAAAAAAAAAAAAAAAA]  []  \n",
       "73          [AAAAAAAAAAAAAAAAAAAA, AAAAAAAAAAAAAAAAAAAA]  []  \n",
       "74                      [AAAAAAAAAAAAAA, AAAAAAAAAAAAAA]  []  \n",
       "75                            [GGGGGGGGGGG, GGGGGGGGGGG]  []  \n",
       "...                                                  ...  ..  \n",
       "13818         [AAAAAAAAAAAAAAAAAAA, AAAAAAAAAAAAAAAAAAA]  []  \n",
       "13819  [AAAAAAAAAAAAAAAAAAAA, AAAAAAAAAAAAAAAAAAAAAAA...  []  \n",
       "13820                    [CCCCCCCCCCCCC, CCCCCCCCCCCCCC]  []  \n",
       "13821                        [TTTTTTTTTTT, TTTTTTTTTTTT]  []  \n",
       "13822     [AAAAAAAAAAAAAAAAAAAAA, AAAAAAAAAAAAAAAAAAAAA]  []  \n",
       "\n",
       "[777492 rows x 6 columns]"
      ]
     },
     "execution_count": 2,
     "metadata": {},
     "output_type": "execute_result"
    }
   ],
   "source": [
    "assembly_all = pd.DataFrame(columns = [0,1,2,3,4])\n",
    "\n",
    "for chrom in range(1,23):       \n",
    "    assembly = pd.read_csv(f\"assembly/homopolymers_assembly_alleles_chr{chrom}.csv\", header=None, \n",
    "                        sep = \"\\t\", skiprows = 1)\n",
    "    assembly[4] = assembly.apply(lambda row: literal_eval(row[4]), axis = 1)\n",
    "    assembly[5] = assembly.apply(lambda row: literal_eval(row[5]), axis = 1)\n",
    "    assembly = assembly[assembly[4].apply(lambda x: len(x) != 0)]\n",
    "    assembly = assembly[assembly[5].apply(lambda x: len(x) == 0)]\n",
    "    assembly_all = pd.concat([assembly_all, assembly])\n",
    "        \n",
    "assembly_all[1] = assembly_all[1].astype(int)\n",
    "assembly_all[2] = assembly_all[2].astype(int)\n",
    "assembly_all"
   ]
  },
  {
   "cell_type": "code",
   "execution_count": 3,
   "metadata": {},
   "outputs": [],
   "source": [
    "####### Read LongTR output on HG002 #######\n",
    "calls = []\n",
    "for chrom in range(1,23):\n",
    "    vcf = VCF(f\"LongTR_calls/trio_homo_longtr_stutter_chr{chrom}.vcf.gz\", samples=\"HG002\")\n",
    "    for variant in vcf:\n",
    "        if variant.CHROM == \"chrX\" or variant.CHROM == \"chrY\":\n",
    "            break\n",
    "        calls.append([variant.CHROM, variant.POS, variant.INFO['START'], variant.INFO['END'],\n",
    "                      variant.REF, variant.ID, variant.gt_bases[0].split(\"|\"), variant.format('GB')[0]])\n",
    "LongTR_data_stutter = pd.DataFrame(calls, \n",
    "    columns=[\"chrom\",\"pos_LongTR_stutter\", \"start_LongTR_stutter\",\n",
    "             \"end_LongTR_stutter\", \"ref_LongTR_stutter\", \"ID\",\n",
    "             \"gbs_LongTR_stutter\", 'gb_LongTR_stutter'])\n",
    "\n",
    "####### Read LongTR without stutter output on HG002 #######\n",
    "calls = []\n",
    "\n",
    "vcf = VCF(f\"LongTR_calls/trio_homo_longtr_no_stutter.vcf.gz\", samples=\"HG002\")\n",
    "for variant in vcf:\n",
    "    if variant.CHROM == \"chrX\" or variant.CHROM == \"chrY\":\n",
    "        break\n",
    "    calls.append([variant.CHROM, variant.POS, variant.INFO['START'], variant.INFO['END'],\n",
    "                  variant.REF, variant.ID, variant.gt_bases[0].split(\"|\"), variant.format('GB')[0]])\n",
    "LongTR_data_no_stutter = pd.DataFrame(calls, \n",
    "    columns=[\"chrom\",\"pos_LongTR_no_stutter\", \"start_LongTR_no_stutter\",\n",
    "             \"end_LongTR_no_stutter\", \"ref_LongTR_no_stutter\", \"ID\",\n",
    "             \"gbs_LongTR_no_stutter\", 'gb_LongTR_no_stutter'])\n",
    "\n",
    "\n",
    "####### Read TRGT output on HG002 #######\n",
    "calls = []\n",
    "vcf = VCF(\"TRGT_calls/HG002_homo_trgt_hg38.sorted.vcf.gz\")\n",
    "for variant in vcf:\n",
    "    if variant.CHROM == \"chrX\" or variant.CHROM == \"chrY\":\n",
    "        break\n",
    "    calls.append([variant.CHROM, variant.POS, variant.REF, \n",
    "                  variant.INFO['TRID'], variant.gt_bases[0].split(\"/\")])\n",
    "TRGT_data = pd.DataFrame(calls, \n",
    "    columns=[\"chrom\",\"pos_TRGT\", \"ref_TRGT\", \"ID\", \"gbs_TRGT\"])\n"
   ]
  },
  {
   "cell_type": "code",
   "execution_count": 4,
   "metadata": {},
   "outputs": [],
   "source": [
    "def fix_seq(pos_hipstr, start_hipstr, ref_hipstr, seq_hipstr, end_hipstr):\n",
    "    if np.isnan(pos_hipstr):\n",
    "        return np.nan\n",
    "    diff_pos = int(start_hipstr - pos_hipstr)\n",
    "    end_hipstr_new = pos_hipstr + len(ref_hipstr) - 1\n",
    "    diff_end = int(end_hipstr_new - end_hipstr)\n",
    "    assert(diff_pos >= 0 and diff_end >= 0) # becase only HipSTR might change the pos\n",
    "    if diff_pos > 0:\n",
    "        seq_hipstr = [s[diff_pos:] for s in seq_hipstr]\n",
    "    if diff_end > 0: \n",
    "        seq_hipstr = [s[0:len(s) - diff_end] for s in seq_hipstr]\n",
    "    alleles_hipstr = sorted(seq_hipstr)\n",
    "    return alleles_hipstr\n",
    "\n",
    "both = pd.merge(TRGT_data, LongTR_data_stutter, on = ['chrom', 'ID'])\n",
    "both = pd.merge(both, LongTR_data_no_stutter, on = ['chrom', 'ID'])\n",
    "\n",
    "both['gbs_LongTR_stutter_corrected'] = both.apply(lambda row: fix_seq(row['pos_LongTR_stutter'], \n",
    "                                                              row['start_LongTR_stutter'], row['ref_LongTR_stutter'],\n",
    "                                                              row['gbs_LongTR_stutter'], row['end_LongTR_stutter']), axis = 1)\n",
    "\n",
    "both['gbs_LongTR_no_stutter_corrected'] = both.apply(lambda row: fix_seq(row['pos_LongTR_no_stutter'], \n",
    "                                                              row['start_LongTR_no_stutter'], row['ref_LongTR_no_stutter'],\n",
    "                                                              row['gbs_LongTR_no_stutter'], row['end_LongTR_no_stutter']), axis = 1)\n",
    "\n"
   ]
  },
  {
   "cell_type": "code",
   "execution_count": 5,
   "metadata": {},
   "outputs": [],
   "source": [
    "both_assembly = pd.merge(both, assembly_all, left_on = 'ID', right_on=3)\n",
    "both_assembly['gbs_TRGT'] = both_assembly['gbs_TRGT'].apply(lambda x: sorted(x))\n",
    "both_assembly[4] = both_assembly[4].apply(lambda x: sorted(x))\n"
   ]
  },
  {
   "cell_type": "code",
   "execution_count": 6,
   "metadata": {},
   "outputs": [
    {
     "name": "stdout",
     "output_type": "stream",
     "text": [
      "0.8599225995038957\n"
     ]
    }
   ],
   "source": [
    "print(len(both_assembly[both_assembly['gbs_TRGT'] == both_assembly[4]]) / len(both_assembly))"
   ]
  },
  {
   "cell_type": "code",
   "execution_count": 7,
   "metadata": {},
   "outputs": [
    {
     "name": "stdout",
     "output_type": "stream",
     "text": [
      "0.8495154749529112\n"
     ]
    }
   ],
   "source": [
    "print(len(both_assembly[both_assembly['gbs_LongTR_stutter_corrected'] == both_assembly[4]]) / len(both_assembly))"
   ]
  },
  {
   "cell_type": "code",
   "execution_count": 8,
   "metadata": {},
   "outputs": [
    {
     "name": "stdout",
     "output_type": "stream",
     "text": [
      "0.718886698848256\n"
     ]
    }
   ],
   "source": [
    "print(len(both_assembly[both_assembly['gbs_LongTR_no_stutter_corrected'] == both_assembly[4]]) / len(both_assembly))"
   ]
  },
  {
   "cell_type": "code",
   "execution_count": null,
   "metadata": {},
   "outputs": [],
   "source": []
  }
 ],
 "metadata": {
  "kernelspec": {
   "display_name": "Python 3",
   "language": "python",
   "name": "python3"
  },
  "language_info": {
   "codemirror_mode": {
    "name": "ipython",
    "version": 3
   },
   "file_extension": ".py",
   "mimetype": "text/x-python",
   "name": "python",
   "nbconvert_exporter": "python",
   "pygments_lexer": "ipython3",
   "version": "3.8.5"
  }
 },
 "nbformat": 4,
 "nbformat_minor": 4
}
